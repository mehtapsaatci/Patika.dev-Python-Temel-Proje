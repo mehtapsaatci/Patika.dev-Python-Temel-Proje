{
 "cells": [
  {
   "cell_type": "code",
   "execution_count": null,
   "id": "9e4fe210",
   "metadata": {},
   "outputs": [],
   "source": [
    "\"\"\"1- Bir listeyi düzleştiren (flatten) fonksiyon yazın. Elemanları birden çok katmanlı \n",
    "\n",
    "listelerden ([[3],2] gibi) oluşabileceği gibi, non-scalar verilerden de oluşabilir. Örnek olarak \n",
    "\n",
    "input: [[1,'a',['cat'],2],[[[3]],'dog'],4,5]\n",
    "\n",
    "output: [1,'a','cat',2,3,'dog',4,5] \"\"\"\n",
    "\n",
    "\n",
    "\n",
    "l = [[1,'a',['cat'],2],[[[3]],'dog'],4,5]\n",
    "l1=[]\n",
    "        \n",
    "def flatten(n):\n",
    "    for i in n:\n",
    "        if isinstance(i,list): #liste kontolü\n",
    "            flatten(i)\n",
    "        else:\n",
    "            l1.append(i) #eğer liste değilse direkt olarak ekliyor\n",
    "        \n",
    "    return l1\n",
    "\n",
    "flatten(l)\n"
   ]
  },
  {
   "cell_type": "code",
   "execution_count": null,
   "id": "3d7445b5",
   "metadata": {},
   "outputs": [],
   "source": [
    "\"\"\"2- Verilen listenin içindeki elemanları tersine döndüren bir fonksiyon yazın. \n",
    "\n",
    "Eğer listenin içindeki elemanlar da liste içeriyorsa onların elemanlarını da tersine döndürün. Örnek olarak:\n",
    "\n",
    "input: [[1, 2], [3, 4], [5, 6, 7]]\n",
    "\n",
    "output: [[[7, 6, 5], [4, 3], [2, 1]] \"\"\"\n",
    "\n",
    "e = [[1, 2], [3, 4], [5, 6, 7]]\n",
    "e1 = []\n",
    " \n",
    "def ters(e): \n",
    "    e.reverse()\n",
    "    for i in e:\n",
    "        if isinstance(i,list): #liste kontolü\n",
    "            ters(i)\n",
    "        \n",
    "    return e\n",
    "      \n",
    "print(ters(e))\n",
    " \n",
    "    "
   ]
  }
 ],
 "metadata": {
  "kernelspec": {
   "display_name": "Python 3 (ipykernel)",
   "language": "python",
   "name": "python3"
  },
  "language_info": {
   "codemirror_mode": {
    "name": "ipython",
    "version": 3
   },
   "file_extension": ".py",
   "mimetype": "text/x-python",
   "name": "python",
   "nbconvert_exporter": "python",
   "pygments_lexer": "ipython3",
   "version": "3.9.13"
  }
 },
 "nbformat": 4,
 "nbformat_minor": 5
}
